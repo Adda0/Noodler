{
 "cells": [
  {
   "cell_type": "markdown",
   "id": "placed-northwest",
   "metadata": {},
   "source": [
    "# Noodlification and unification on an example"
   ]
  },
  {
   "cell_type": "code",
   "execution_count": 1,
   "id": "passing-narrow",
   "metadata": {},
   "outputs": [
    {
     "name": "stdout",
     "output_type": "stream",
     "text": [
      "[Warning] The python module awalipy relies on compilation executed \"on-the-fly\" depending on the context (type of weights, of labels, etc.). As a result, the very first call to a given function in a given context may take up to 10 seconds. \n"
     ]
    }
   ],
   "source": [
    "import awalipy\n",
    "import noodler\n",
    "from spot.jupyter import display_inline\n",
    "from IPython.display import SVG"
   ]
  },
  {
   "cell_type": "markdown",
   "id": "functioning-living",
   "metadata": {},
   "source": [
    "## System description\n",
    "The string equation problem with variables $\\mathsf{Var}$ is given by two components:\n",
    " 1. equation $e$ of the form $e_l = e_r$ where $e_l, e_r \\in \\mathsf{Var}^+$. In the code, we use `e_l` and `e_r`.\n",
    " 2. dictionary `constraints`${}\\colon \\mathsf{Var} \\to \\mathsf{RE(\\mathsf{Var})}$. The regular expressions must be given as strings parsable by Awali, see [this guide](http://files.vaucanson-project.org/1.0/gs/RationalExpression.html) for more details."
   ]
  },
  {
   "cell_type": "markdown",
   "id": "familiar-marijuana",
   "metadata": {},
   "source": [
    "In the running example, we use variables `x`,`y`, and `z` with alphabet `a,b,c`. In the following, we create an equation $xyz = xyxy$ with regular constraints\n",
    "* $L_x = L_z = \\Sigma^+$ and \n",
    "* $L_y = \\Sigma \\Sigma^+.$"
   ]
  },
  {
   "cell_type": "code",
   "execution_count": 2,
   "id": "abstract-olympus",
   "metadata": {},
   "outputs": [
    {
     "name": "stdout",
     "output_type": "stream",
     "text": [
      "x: (a+b+c)(a+b+c)*\n",
      "y: (a+b+c)(a+b+c)(a+b+c)*\n",
      "z: (a+b+c)(a+b+c)*\n"
     ]
    }
   ],
   "source": [
    "eq = noodler.StringEquation(\"xyz\", \"xyxy\")\n",
    "\n",
    "alph = \"abc\"\n",
    "Sigma_exp = f\"({'+'.join(alph)})\"\n",
    "Sigma_plus = f\"{Sigma_exp}{Sigma_exp}*\"\n",
    "constraints = {\n",
    "    \"x\" : Sigma_plus,\n",
    "    \"y\" : f\"{Sigma_exp}{Sigma_plus}\",\n",
    "    \"z\" : Sigma_plus\n",
    "}\n",
    "for var in constraints:\n",
    "    print(f\"{var}: {constraints[var]}\")"
   ]
  },
  {
   "cell_type": "code",
   "execution_count": 3,
   "id": "valid-liquid",
   "metadata": {},
   "outputs": [
    {
     "name": "stdout",
     "output_type": "stream",
     "text": [
      "xyz = xyxy\n"
     ]
    },
    {
     "data": {
      "text/html": [
       "<div style='vertical-align:middle;display:inline-block;'>x:</div><div style='vertical-align:middle;display:inline-block;'><svg xmlns=\"http://www.w3.org/2000/svg\" xmlns:xlink=\"http://www.w3.org/1999/xlink\" width=\"252pt\" height=\"77pt\" viewBox=\"0.00 0.00 252.00 77.00\">\n",
       "<g id=\"graph0\" class=\"graph\" transform=\"scale(1 1) rotate(0) translate(4 73)\">\n",
       "<title>%3</title>\n",
       "<polygon fill=\"white\" stroke=\"transparent\" points=\"-4,4 -4,-73 248,-73 248,4 -4,4\"/>\n",
       "<!-- I2 -->\n",
       "<g id=\"node1\" class=\"node\">\n",
       "<title>I2</title>\n",
       "<ellipse fill=\"black\" stroke=\"black\" cx=\"0\" cy=\"-18\" rx=\"0\" ry=\"0\"/>\n",
       "</g>\n",
       "<!-- 2 -->\n",
       "<g id=\"node3\" class=\"node\">\n",
       "<title>2</title>\n",
       "<path fill=\"none\" stroke=\"black\" d=\"M79,-36C79,-36 49,-36 49,-36 43,-36 37,-30 37,-24 37,-24 37,-12 37,-12 37,-6 43,0 49,0 49,0 79,0 79,0 85,0 91,-6 91,-12 91,-12 91,-24 91,-24 91,-30 85,-36 79,-36\"/>\n",
       "<text text-anchor=\"middle\" x=\"64\" y=\"-14.3\" font-family=\"Times,serif\" font-size=\"14.00\">s0</text>\n",
       "</g>\n",
       "<!-- I2&#45;&gt;2 -->\n",
       "<g id=\"edge1\" class=\"edge\">\n",
       "<title>I2-&gt;2</title>\n",
       "<path fill=\"none\" stroke=\"DimGray\" d=\"M1.04,-18C1.86,-18 13.73,-18 26.87,-18\"/>\n",
       "<polygon fill=\"DimGray\" stroke=\"DimGray\" points=\"27,-21.5 37,-18 27,-14.5 27,-21.5\"/>\n",
       "</g>\n",
       "<!-- F3 -->\n",
       "<g id=\"node2\" class=\"node\">\n",
       "<title>F3</title>\n",
       "<ellipse fill=\"black\" stroke=\"black\" cx=\"244\" cy=\"-18\" rx=\"0\" ry=\"0\"/>\n",
       "</g>\n",
       "<!-- 3 -->\n",
       "<g id=\"node4\" class=\"node\">\n",
       "<title>3</title>\n",
       "<path fill=\"none\" stroke=\"black\" d=\"M195,-36C195,-36 165,-36 165,-36 159,-36 153,-30 153,-24 153,-24 153,-12 153,-12 153,-6 159,0 165,0 165,0 195,0 195,0 201,0 207,-6 207,-12 207,-12 207,-24 207,-24 207,-30 201,-36 195,-36\"/>\n",
       "<text text-anchor=\"middle\" x=\"180\" y=\"-14.3\" font-family=\"Times,serif\" font-size=\"14.00\">s1</text>\n",
       "</g>\n",
       "<!-- 2&#45;&gt;3 -->\n",
       "<g id=\"edge2\" class=\"edge\">\n",
       "<title>2-&gt;3</title>\n",
       "<path fill=\"none\" stroke=\"black\" d=\"M91.15,-18C106.51,-18 126.13,-18 142.93,-18\"/>\n",
       "<polygon fill=\"black\" stroke=\"black\" points=\"142.97,-21.5 152.97,-18 142.97,-14.5 142.97,-21.5\"/>\n",
       "<text text-anchor=\"middle\" x=\"122\" y=\"-21.8\" font-family=\"Times,serif\" font-size=\"14.00\">[a-c]</text>\n",
       "</g>\n",
       "<!-- 3&#45;&gt;F3 -->\n",
       "<g id=\"edge3\" class=\"edge\">\n",
       "<title>3-&gt;F3</title>\n",
       "<path fill=\"none\" stroke=\"DimGray\" d=\"M207.29,-18C216.25,-18 225.73,-18 232.68,-18\"/>\n",
       "<polygon fill=\"DimGray\" stroke=\"DimGray\" points=\"232.95,-21.5 242.95,-18 232.95,-14.5 232.95,-21.5\"/>\n",
       "</g>\n",
       "<!-- 3&#45;&gt;3 -->\n",
       "<g id=\"edge4\" class=\"edge\">\n",
       "<title>3-&gt;3</title>\n",
       "<path fill=\"none\" stroke=\"black\" d=\"M172.04,-36.15C170.82,-45.54 173.47,-54 180,-54 183.98,-54 186.52,-50.86 187.62,-46.28\"/>\n",
       "<polygon fill=\"black\" stroke=\"black\" points=\"191.12,-46.26 187.96,-36.15 184.13,-46.03 191.12,-46.26\"/>\n",
       "<text text-anchor=\"middle\" x=\"180\" y=\"-57.8\" font-family=\"Times,serif\" font-size=\"14.00\">[a-c]</text>\n",
       "</g>\n",
       "</g>\n",
       "</svg></div>"
      ],
      "text/plain": [
       "<IPython.core.display.HTML object>"
      ]
     },
     "metadata": {},
     "output_type": "display_data"
    },
    {
     "data": {
      "text/html": [
       "<div style='vertical-align:middle;display:inline-block;'>y:</div><div style='vertical-align:middle;display:inline-block;'><svg xmlns=\"http://www.w3.org/2000/svg\" xmlns:xlink=\"http://www.w3.org/1999/xlink\" width=\"368pt\" height=\"77pt\" viewBox=\"0.00 0.00 368.00 77.00\">\n",
       "<g id=\"graph0\" class=\"graph\" transform=\"scale(1 1) rotate(0) translate(4 73)\">\n",
       "<title>%3</title>\n",
       "<polygon fill=\"white\" stroke=\"transparent\" points=\"-4,4 -4,-73 364,-73 364,4 -4,4\"/>\n",
       "<!-- I2 -->\n",
       "<g id=\"node1\" class=\"node\">\n",
       "<title>I2</title>\n",
       "<ellipse fill=\"black\" stroke=\"black\" cx=\"0\" cy=\"-18\" rx=\"0\" ry=\"0\"/>\n",
       "</g>\n",
       "<!-- 2 -->\n",
       "<g id=\"node3\" class=\"node\">\n",
       "<title>2</title>\n",
       "<path fill=\"none\" stroke=\"black\" d=\"M79,-36C79,-36 49,-36 49,-36 43,-36 37,-30 37,-24 37,-24 37,-12 37,-12 37,-6 43,0 49,0 49,0 79,0 79,0 85,0 91,-6 91,-12 91,-12 91,-24 91,-24 91,-30 85,-36 79,-36\"/>\n",
       "<text text-anchor=\"middle\" x=\"64\" y=\"-14.3\" font-family=\"Times,serif\" font-size=\"14.00\">s0</text>\n",
       "</g>\n",
       "<!-- I2&#45;&gt;2 -->\n",
       "<g id=\"edge1\" class=\"edge\">\n",
       "<title>I2-&gt;2</title>\n",
       "<path fill=\"none\" stroke=\"DimGray\" d=\"M1.04,-18C1.86,-18 13.73,-18 26.87,-18\"/>\n",
       "<polygon fill=\"DimGray\" stroke=\"DimGray\" points=\"27,-21.5 37,-18 27,-14.5 27,-21.5\"/>\n",
       "</g>\n",
       "<!-- F4 -->\n",
       "<g id=\"node2\" class=\"node\">\n",
       "<title>F4</title>\n",
       "<ellipse fill=\"black\" stroke=\"black\" cx=\"360\" cy=\"-18\" rx=\"0\" ry=\"0\"/>\n",
       "</g>\n",
       "<!-- 3 -->\n",
       "<g id=\"node4\" class=\"node\">\n",
       "<title>3</title>\n",
       "<path fill=\"none\" stroke=\"black\" d=\"M195,-36C195,-36 165,-36 165,-36 159,-36 153,-30 153,-24 153,-24 153,-12 153,-12 153,-6 159,0 165,0 165,0 195,0 195,0 201,0 207,-6 207,-12 207,-12 207,-24 207,-24 207,-30 201,-36 195,-36\"/>\n",
       "<text text-anchor=\"middle\" x=\"180\" y=\"-14.3\" font-family=\"Times,serif\" font-size=\"14.00\">s1</text>\n",
       "</g>\n",
       "<!-- 2&#45;&gt;3 -->\n",
       "<g id=\"edge2\" class=\"edge\">\n",
       "<title>2-&gt;3</title>\n",
       "<path fill=\"none\" stroke=\"black\" d=\"M91.15,-18C106.51,-18 126.13,-18 142.93,-18\"/>\n",
       "<polygon fill=\"black\" stroke=\"black\" points=\"142.97,-21.5 152.97,-18 142.97,-14.5 142.97,-21.5\"/>\n",
       "<text text-anchor=\"middle\" x=\"122\" y=\"-21.8\" font-family=\"Times,serif\" font-size=\"14.00\">[a-c]</text>\n",
       "</g>\n",
       "<!-- 4 -->\n",
       "<g id=\"node5\" class=\"node\">\n",
       "<title>4</title>\n",
       "<path fill=\"none\" stroke=\"black\" d=\"M311,-36C311,-36 281,-36 281,-36 275,-36 269,-30 269,-24 269,-24 269,-12 269,-12 269,-6 275,0 281,0 281,0 311,0 311,0 317,0 323,-6 323,-12 323,-12 323,-24 323,-24 323,-30 317,-36 311,-36\"/>\n",
       "<text text-anchor=\"middle\" x=\"296\" y=\"-14.3\" font-family=\"Times,serif\" font-size=\"14.00\">s2</text>\n",
       "</g>\n",
       "<!-- 3&#45;&gt;4 -->\n",
       "<g id=\"edge3\" class=\"edge\">\n",
       "<title>3-&gt;4</title>\n",
       "<path fill=\"none\" stroke=\"black\" d=\"M207.15,-18C222.51,-18 242.13,-18 258.93,-18\"/>\n",
       "<polygon fill=\"black\" stroke=\"black\" points=\"258.97,-21.5 268.97,-18 258.97,-14.5 258.97,-21.5\"/>\n",
       "<text text-anchor=\"middle\" x=\"238\" y=\"-21.8\" font-family=\"Times,serif\" font-size=\"14.00\">[a-c]</text>\n",
       "</g>\n",
       "<!-- 4&#45;&gt;F4 -->\n",
       "<g id=\"edge4\" class=\"edge\">\n",
       "<title>4-&gt;F4</title>\n",
       "<path fill=\"none\" stroke=\"DimGray\" d=\"M323.29,-18C332.25,-18 341.73,-18 348.68,-18\"/>\n",
       "<polygon fill=\"DimGray\" stroke=\"DimGray\" points=\"348.95,-21.5 358.95,-18 348.95,-14.5 348.95,-21.5\"/>\n",
       "</g>\n",
       "<!-- 4&#45;&gt;4 -->\n",
       "<g id=\"edge5\" class=\"edge\">\n",
       "<title>4-&gt;4</title>\n",
       "<path fill=\"none\" stroke=\"black\" d=\"M288.04,-36.15C286.82,-45.54 289.47,-54 296,-54 299.98,-54 302.52,-50.86 303.62,-46.28\"/>\n",
       "<polygon fill=\"black\" stroke=\"black\" points=\"307.12,-46.26 303.96,-36.15 300.13,-46.03 307.12,-46.26\"/>\n",
       "<text text-anchor=\"middle\" x=\"296\" y=\"-57.8\" font-family=\"Times,serif\" font-size=\"14.00\">[a-c]</text>\n",
       "</g>\n",
       "</g>\n",
       "</svg></div>"
      ],
      "text/plain": [
       "<IPython.core.display.HTML object>"
      ]
     },
     "metadata": {},
     "output_type": "display_data"
    },
    {
     "data": {
      "text/html": [
       "<div style='vertical-align:middle;display:inline-block;'>z:</div><div style='vertical-align:middle;display:inline-block;'><svg xmlns=\"http://www.w3.org/2000/svg\" xmlns:xlink=\"http://www.w3.org/1999/xlink\" width=\"252pt\" height=\"77pt\" viewBox=\"0.00 0.00 252.00 77.00\">\n",
       "<g id=\"graph0\" class=\"graph\" transform=\"scale(1 1) rotate(0) translate(4 73)\">\n",
       "<title>%3</title>\n",
       "<polygon fill=\"white\" stroke=\"transparent\" points=\"-4,4 -4,-73 248,-73 248,4 -4,4\"/>\n",
       "<!-- I2 -->\n",
       "<g id=\"node1\" class=\"node\">\n",
       "<title>I2</title>\n",
       "<ellipse fill=\"black\" stroke=\"black\" cx=\"0\" cy=\"-18\" rx=\"0\" ry=\"0\"/>\n",
       "</g>\n",
       "<!-- 2 -->\n",
       "<g id=\"node3\" class=\"node\">\n",
       "<title>2</title>\n",
       "<path fill=\"none\" stroke=\"black\" d=\"M79,-36C79,-36 49,-36 49,-36 43,-36 37,-30 37,-24 37,-24 37,-12 37,-12 37,-6 43,0 49,0 49,0 79,0 79,0 85,0 91,-6 91,-12 91,-12 91,-24 91,-24 91,-30 85,-36 79,-36\"/>\n",
       "<text text-anchor=\"middle\" x=\"64\" y=\"-14.3\" font-family=\"Times,serif\" font-size=\"14.00\">s0</text>\n",
       "</g>\n",
       "<!-- I2&#45;&gt;2 -->\n",
       "<g id=\"edge1\" class=\"edge\">\n",
       "<title>I2-&gt;2</title>\n",
       "<path fill=\"none\" stroke=\"DimGray\" d=\"M1.04,-18C1.86,-18 13.73,-18 26.87,-18\"/>\n",
       "<polygon fill=\"DimGray\" stroke=\"DimGray\" points=\"27,-21.5 37,-18 27,-14.5 27,-21.5\"/>\n",
       "</g>\n",
       "<!-- F3 -->\n",
       "<g id=\"node2\" class=\"node\">\n",
       "<title>F3</title>\n",
       "<ellipse fill=\"black\" stroke=\"black\" cx=\"244\" cy=\"-18\" rx=\"0\" ry=\"0\"/>\n",
       "</g>\n",
       "<!-- 3 -->\n",
       "<g id=\"node4\" class=\"node\">\n",
       "<title>3</title>\n",
       "<path fill=\"none\" stroke=\"black\" d=\"M195,-36C195,-36 165,-36 165,-36 159,-36 153,-30 153,-24 153,-24 153,-12 153,-12 153,-6 159,0 165,0 165,0 195,0 195,0 201,0 207,-6 207,-12 207,-12 207,-24 207,-24 207,-30 201,-36 195,-36\"/>\n",
       "<text text-anchor=\"middle\" x=\"180\" y=\"-14.3\" font-family=\"Times,serif\" font-size=\"14.00\">s1</text>\n",
       "</g>\n",
       "<!-- 2&#45;&gt;3 -->\n",
       "<g id=\"edge2\" class=\"edge\">\n",
       "<title>2-&gt;3</title>\n",
       "<path fill=\"none\" stroke=\"black\" d=\"M91.15,-18C106.51,-18 126.13,-18 142.93,-18\"/>\n",
       "<polygon fill=\"black\" stroke=\"black\" points=\"142.97,-21.5 152.97,-18 142.97,-14.5 142.97,-21.5\"/>\n",
       "<text text-anchor=\"middle\" x=\"122\" y=\"-21.8\" font-family=\"Times,serif\" font-size=\"14.00\">[a-c]</text>\n",
       "</g>\n",
       "<!-- 3&#45;&gt;F3 -->\n",
       "<g id=\"edge3\" class=\"edge\">\n",
       "<title>3-&gt;F3</title>\n",
       "<path fill=\"none\" stroke=\"DimGray\" d=\"M207.29,-18C216.25,-18 225.73,-18 232.68,-18\"/>\n",
       "<polygon fill=\"DimGray\" stroke=\"DimGray\" points=\"232.95,-21.5 242.95,-18 232.95,-14.5 232.95,-21.5\"/>\n",
       "</g>\n",
       "<!-- 3&#45;&gt;3 -->\n",
       "<g id=\"edge4\" class=\"edge\">\n",
       "<title>3-&gt;3</title>\n",
       "<path fill=\"none\" stroke=\"black\" d=\"M172.04,-36.15C170.82,-45.54 173.47,-54 180,-54 183.98,-54 186.52,-50.86 187.62,-46.28\"/>\n",
       "<polygon fill=\"black\" stroke=\"black\" points=\"191.12,-46.26 187.96,-36.15 184.13,-46.03 191.12,-46.26\"/>\n",
       "<text text-anchor=\"middle\" x=\"180\" y=\"-57.8\" font-family=\"Times,serif\" font-size=\"14.00\">[a-c]</text>\n",
       "</g>\n",
       "</g>\n",
       "</svg></div>"
      ],
      "text/plain": [
       "<IPython.core.display.HTML object>"
      ]
     },
     "metadata": {},
     "output_type": "display_data"
    }
   ],
   "source": [
    "aut_constraints = {var : awalipy.RatExp(c, alphabet=alph).exp_to_aut() for var, c in constraints.items()}\n",
    "\n",
    "system = noodler.AutSESystem(eq, aut_constraints)\n",
    "print(system.eq)\n",
    "system.show_constraints()"
   ]
  },
  {
   "cell_type": "code",
   "execution_count": 4,
   "id": "metropolitan-constant",
   "metadata": {},
   "outputs": [
    {
     "name": "stdout",
     "output_type": "stream",
     "text": [
      "xyz = xyxy\n",
      "Other 11 unprocessed noodles are in the queue\n"
     ]
    },
    {
     "data": {
      "text/html": [
       "<div style='vertical-align:middle;display:inline-block;'>z:</div><div style='vertical-align:middle;display:inline-block;'><svg xmlns=\"http://www.w3.org/2000/svg\" xmlns:xlink=\"http://www.w3.org/1999/xlink\" width=\"484pt\" height=\"44pt\" viewBox=\"0.00 0.00 484.00 44.00\">\n",
       "<g id=\"graph0\" class=\"graph\" transform=\"scale(1 1) rotate(0) translate(4 40)\">\n",
       "<title>%3</title>\n",
       "<polygon fill=\"white\" stroke=\"transparent\" points=\"-4,4 -4,-40 480,-40 480,4 -4,4\"/>\n",
       "<!-- I3 -->\n",
       "<g id=\"node1\" class=\"node\">\n",
       "<title>I3</title>\n",
       "<ellipse fill=\"black\" stroke=\"black\" cx=\"0\" cy=\"-18\" rx=\"0\" ry=\"0\"/>\n",
       "</g>\n",
       "<!-- 3 -->\n",
       "<g id=\"node4\" class=\"node\">\n",
       "<title>3</title>\n",
       "<path fill=\"none\" stroke=\"black\" d=\"M79,-36C79,-36 49,-36 49,-36 43,-36 37,-30 37,-24 37,-24 37,-12 37,-12 37,-6 43,0 49,0 49,0 79,0 79,0 85,0 91,-6 91,-12 91,-12 91,-24 91,-24 91,-30 85,-36 79,-36\"/>\n",
       "<text text-anchor=\"middle\" x=\"64\" y=\"-14.3\" font-family=\"Times,serif\" font-size=\"14.00\">s1</text>\n",
       "</g>\n",
       "<!-- I3&#45;&gt;3 -->\n",
       "<g id=\"edge1\" class=\"edge\">\n",
       "<title>I3-&gt;3</title>\n",
       "<path fill=\"none\" stroke=\"DimGray\" d=\"M1.04,-18C1.86,-18 13.73,-18 26.87,-18\"/>\n",
       "<polygon fill=\"DimGray\" stroke=\"DimGray\" points=\"27,-21.5 37,-18 27,-14.5 27,-21.5\"/>\n",
       "</g>\n",
       "<!-- F2 -->\n",
       "<g id=\"node2\" class=\"node\">\n",
       "<title>F2</title>\n",
       "<ellipse fill=\"black\" stroke=\"black\" cx=\"476\" cy=\"-18\" rx=\"0\" ry=\"0\"/>\n",
       "</g>\n",
       "<!-- 2 -->\n",
       "<g id=\"node3\" class=\"node\">\n",
       "<title>2</title>\n",
       "<path fill=\"none\" stroke=\"black\" d=\"M427,-36C427,-36 397,-36 397,-36 391,-36 385,-30 385,-24 385,-24 385,-12 385,-12 385,-6 391,0 397,0 397,0 427,0 427,0 433,0 439,-6 439,-12 439,-12 439,-24 439,-24 439,-30 433,-36 427,-36\"/>\n",
       "<text text-anchor=\"middle\" x=\"412\" y=\"-14.3\" font-family=\"Times,serif\" font-size=\"14.00\">s0</text>\n",
       "</g>\n",
       "<!-- 2&#45;&gt;F2 -->\n",
       "<g id=\"edge2\" class=\"edge\">\n",
       "<title>2-&gt;F2</title>\n",
       "<path fill=\"none\" stroke=\"DimGray\" d=\"M439.29,-18C448.25,-18 457.73,-18 464.68,-18\"/>\n",
       "<polygon fill=\"DimGray\" stroke=\"DimGray\" points=\"464.95,-21.5 474.95,-18 464.95,-14.5 464.95,-21.5\"/>\n",
       "</g>\n",
       "<!-- 5 -->\n",
       "<g id=\"node6\" class=\"node\">\n",
       "<title>5</title>\n",
       "<path fill=\"none\" stroke=\"black\" d=\"M195,-36C195,-36 165,-36 165,-36 159,-36 153,-30 153,-24 153,-24 153,-12 153,-12 153,-6 159,0 165,0 165,0 195,0 195,0 201,0 207,-6 207,-12 207,-12 207,-24 207,-24 207,-30 201,-36 195,-36\"/>\n",
       "<text text-anchor=\"middle\" x=\"180\" y=\"-14.3\" font-family=\"Times,serif\" font-size=\"14.00\">s3</text>\n",
       "</g>\n",
       "<!-- 3&#45;&gt;5 -->\n",
       "<g id=\"edge3\" class=\"edge\">\n",
       "<title>3-&gt;5</title>\n",
       "<path fill=\"none\" stroke=\"black\" d=\"M91.15,-18C106.51,-18 126.13,-18 142.93,-18\"/>\n",
       "<polygon fill=\"black\" stroke=\"black\" points=\"142.97,-21.5 152.97,-18 142.97,-14.5 142.97,-21.5\"/>\n",
       "<text text-anchor=\"middle\" x=\"122\" y=\"-21.8\" font-family=\"Times,serif\" font-size=\"14.00\">[a-c]</text>\n",
       "</g>\n",
       "<!-- 4 -->\n",
       "<g id=\"node5\" class=\"node\">\n",
       "<title>4</title>\n",
       "<path fill=\"none\" stroke=\"black\" d=\"M311,-36C311,-36 281,-36 281,-36 275,-36 269,-30 269,-24 269,-24 269,-12 269,-12 269,-6 275,0 281,0 281,0 311,0 311,0 317,0 323,-6 323,-12 323,-12 323,-24 323,-24 323,-30 317,-36 311,-36\"/>\n",
       "<text text-anchor=\"middle\" x=\"296\" y=\"-14.3\" font-family=\"Times,serif\" font-size=\"14.00\">s2</text>\n",
       "</g>\n",
       "<!-- 4&#45;&gt;2 -->\n",
       "<g id=\"edge4\" class=\"edge\">\n",
       "<title>4-&gt;2</title>\n",
       "<path fill=\"none\" stroke=\"black\" d=\"M323.15,-18C338.51,-18 358.13,-18 374.93,-18\"/>\n",
       "<polygon fill=\"black\" stroke=\"black\" points=\"374.97,-21.5 384.97,-18 374.97,-14.5 374.97,-21.5\"/>\n",
       "<text text-anchor=\"middle\" x=\"354\" y=\"-21.8\" font-family=\"Times,serif\" font-size=\"14.00\">[a-c]</text>\n",
       "</g>\n",
       "<!-- 5&#45;&gt;4 -->\n",
       "<g id=\"edge5\" class=\"edge\">\n",
       "<title>5-&gt;4</title>\n",
       "<path fill=\"none\" stroke=\"black\" d=\"M207.15,-18C222.51,-18 242.13,-18 258.93,-18\"/>\n",
       "<polygon fill=\"black\" stroke=\"black\" points=\"258.97,-21.5 268.97,-18 258.97,-14.5 258.97,-21.5\"/>\n",
       "<text text-anchor=\"middle\" x=\"238\" y=\"-21.8\" font-family=\"Times,serif\" font-size=\"14.00\">[a-c]</text>\n",
       "</g>\n",
       "</g>\n",
       "</svg></div>"
      ],
      "text/plain": [
       "<IPython.core.display.HTML object>"
      ]
     },
     "metadata": {},
     "output_type": "display_data"
    },
    {
     "data": {
      "text/html": [
       "<div style='vertical-align:middle;display:inline-block;'>y:</div><div style='vertical-align:middle;display:inline-block;'><svg xmlns=\"http://www.w3.org/2000/svg\" xmlns:xlink=\"http://www.w3.org/1999/xlink\" width=\"368pt\" height=\"44pt\" viewBox=\"0.00 0.00 368.00 44.00\">\n",
       "<g id=\"graph0\" class=\"graph\" transform=\"scale(1 1) rotate(0) translate(4 40)\">\n",
       "<title>%3</title>\n",
       "<polygon fill=\"white\" stroke=\"transparent\" points=\"-4,4 -4,-40 364,-40 364,4 -4,4\"/>\n",
       "<!-- I3 -->\n",
       "<g id=\"node1\" class=\"node\">\n",
       "<title>I3</title>\n",
       "<ellipse fill=\"black\" stroke=\"black\" cx=\"0\" cy=\"-18\" rx=\"0\" ry=\"0\"/>\n",
       "</g>\n",
       "<!-- 3 -->\n",
       "<g id=\"node4\" class=\"node\">\n",
       "<title>3</title>\n",
       "<path fill=\"none\" stroke=\"black\" d=\"M79,-36C79,-36 49,-36 49,-36 43,-36 37,-30 37,-24 37,-24 37,-12 37,-12 37,-6 43,0 49,0 49,0 79,0 79,0 85,0 91,-6 91,-12 91,-12 91,-24 91,-24 91,-30 85,-36 79,-36\"/>\n",
       "<text text-anchor=\"middle\" x=\"64\" y=\"-14.3\" font-family=\"Times,serif\" font-size=\"14.00\">s1</text>\n",
       "</g>\n",
       "<!-- I3&#45;&gt;3 -->\n",
       "<g id=\"edge1\" class=\"edge\">\n",
       "<title>I3-&gt;3</title>\n",
       "<path fill=\"none\" stroke=\"DimGray\" d=\"M1.04,-18C1.86,-18 13.73,-18 26.87,-18\"/>\n",
       "<polygon fill=\"DimGray\" stroke=\"DimGray\" points=\"27,-21.5 37,-18 27,-14.5 27,-21.5\"/>\n",
       "</g>\n",
       "<!-- F2 -->\n",
       "<g id=\"node2\" class=\"node\">\n",
       "<title>F2</title>\n",
       "<ellipse fill=\"black\" stroke=\"black\" cx=\"360\" cy=\"-18\" rx=\"0\" ry=\"0\"/>\n",
       "</g>\n",
       "<!-- 2 -->\n",
       "<g id=\"node3\" class=\"node\">\n",
       "<title>2</title>\n",
       "<path fill=\"none\" stroke=\"black\" d=\"M311,-36C311,-36 281,-36 281,-36 275,-36 269,-30 269,-24 269,-24 269,-12 269,-12 269,-6 275,0 281,0 281,0 311,0 311,0 317,0 323,-6 323,-12 323,-12 323,-24 323,-24 323,-30 317,-36 311,-36\"/>\n",
       "<text text-anchor=\"middle\" x=\"296\" y=\"-14.3\" font-family=\"Times,serif\" font-size=\"14.00\">s0</text>\n",
       "</g>\n",
       "<!-- 2&#45;&gt;F2 -->\n",
       "<g id=\"edge2\" class=\"edge\">\n",
       "<title>2-&gt;F2</title>\n",
       "<path fill=\"none\" stroke=\"DimGray\" d=\"M323.29,-18C332.25,-18 341.73,-18 348.68,-18\"/>\n",
       "<polygon fill=\"DimGray\" stroke=\"DimGray\" points=\"348.95,-21.5 358.95,-18 348.95,-14.5 348.95,-21.5\"/>\n",
       "</g>\n",
       "<!-- 4 -->\n",
       "<g id=\"node5\" class=\"node\">\n",
       "<title>4</title>\n",
       "<path fill=\"none\" stroke=\"black\" d=\"M195,-36C195,-36 165,-36 165,-36 159,-36 153,-30 153,-24 153,-24 153,-12 153,-12 153,-6 159,0 165,0 165,0 195,0 195,0 201,0 207,-6 207,-12 207,-12 207,-24 207,-24 207,-30 201,-36 195,-36\"/>\n",
       "<text text-anchor=\"middle\" x=\"180\" y=\"-14.3\" font-family=\"Times,serif\" font-size=\"14.00\">s2</text>\n",
       "</g>\n",
       "<!-- 3&#45;&gt;4 -->\n",
       "<g id=\"edge3\" class=\"edge\">\n",
       "<title>3-&gt;4</title>\n",
       "<path fill=\"none\" stroke=\"black\" d=\"M91.15,-18C106.51,-18 126.13,-18 142.93,-18\"/>\n",
       "<polygon fill=\"black\" stroke=\"black\" points=\"142.97,-21.5 152.97,-18 142.97,-14.5 142.97,-21.5\"/>\n",
       "<text text-anchor=\"middle\" x=\"122\" y=\"-21.8\" font-family=\"Times,serif\" font-size=\"14.00\">[a-c]</text>\n",
       "</g>\n",
       "<!-- 4&#45;&gt;2 -->\n",
       "<g id=\"edge4\" class=\"edge\">\n",
       "<title>4-&gt;2</title>\n",
       "<path fill=\"none\" stroke=\"black\" d=\"M207.15,-18C222.51,-18 242.13,-18 258.93,-18\"/>\n",
       "<polygon fill=\"black\" stroke=\"black\" points=\"258.97,-21.5 268.97,-18 258.97,-14.5 258.97,-21.5\"/>\n",
       "<text text-anchor=\"middle\" x=\"238\" y=\"-21.8\" font-family=\"Times,serif\" font-size=\"14.00\">[a-c]</text>\n",
       "</g>\n",
       "</g>\n",
       "</svg></div>"
      ],
      "text/plain": [
       "<IPython.core.display.HTML object>"
      ]
     },
     "metadata": {},
     "output_type": "display_data"
    },
    {
     "data": {
      "text/html": [
       "<div style='vertical-align:middle;display:inline-block;'>x:</div><div style='vertical-align:middle;display:inline-block;'><svg xmlns=\"http://www.w3.org/2000/svg\" xmlns:xlink=\"http://www.w3.org/1999/xlink\" width=\"252pt\" height=\"44pt\" viewBox=\"0.00 0.00 252.00 44.00\">\n",
       "<g id=\"graph0\" class=\"graph\" transform=\"scale(1 1) rotate(0) translate(4 40)\">\n",
       "<title>%3</title>\n",
       "<polygon fill=\"white\" stroke=\"transparent\" points=\"-4,4 -4,-40 248,-40 248,4 -4,4\"/>\n",
       "<!-- I3 -->\n",
       "<g id=\"node1\" class=\"node\">\n",
       "<title>I3</title>\n",
       "<ellipse fill=\"black\" stroke=\"black\" cx=\"0\" cy=\"-18\" rx=\"0\" ry=\"0\"/>\n",
       "</g>\n",
       "<!-- 3 -->\n",
       "<g id=\"node4\" class=\"node\">\n",
       "<title>3</title>\n",
       "<path fill=\"none\" stroke=\"black\" d=\"M79,-36C79,-36 49,-36 49,-36 43,-36 37,-30 37,-24 37,-24 37,-12 37,-12 37,-6 43,0 49,0 49,0 79,0 79,0 85,0 91,-6 91,-12 91,-12 91,-24 91,-24 91,-30 85,-36 79,-36\"/>\n",
       "<text text-anchor=\"middle\" x=\"64\" y=\"-14.3\" font-family=\"Times,serif\" font-size=\"14.00\">s1</text>\n",
       "</g>\n",
       "<!-- I3&#45;&gt;3 -->\n",
       "<g id=\"edge1\" class=\"edge\">\n",
       "<title>I3-&gt;3</title>\n",
       "<path fill=\"none\" stroke=\"DimGray\" d=\"M1.04,-18C1.86,-18 13.73,-18 26.87,-18\"/>\n",
       "<polygon fill=\"DimGray\" stroke=\"DimGray\" points=\"27,-21.5 37,-18 27,-14.5 27,-21.5\"/>\n",
       "</g>\n",
       "<!-- F2 -->\n",
       "<g id=\"node2\" class=\"node\">\n",
       "<title>F2</title>\n",
       "<ellipse fill=\"black\" stroke=\"black\" cx=\"244\" cy=\"-18\" rx=\"0\" ry=\"0\"/>\n",
       "</g>\n",
       "<!-- 2 -->\n",
       "<g id=\"node3\" class=\"node\">\n",
       "<title>2</title>\n",
       "<path fill=\"none\" stroke=\"black\" d=\"M195,-36C195,-36 165,-36 165,-36 159,-36 153,-30 153,-24 153,-24 153,-12 153,-12 153,-6 159,0 165,0 165,0 195,0 195,0 201,0 207,-6 207,-12 207,-12 207,-24 207,-24 207,-30 201,-36 195,-36\"/>\n",
       "<text text-anchor=\"middle\" x=\"180\" y=\"-14.3\" font-family=\"Times,serif\" font-size=\"14.00\">s0</text>\n",
       "</g>\n",
       "<!-- 2&#45;&gt;F2 -->\n",
       "<g id=\"edge2\" class=\"edge\">\n",
       "<title>2-&gt;F2</title>\n",
       "<path fill=\"none\" stroke=\"DimGray\" d=\"M207.29,-18C216.25,-18 225.73,-18 232.68,-18\"/>\n",
       "<polygon fill=\"DimGray\" stroke=\"DimGray\" points=\"232.95,-21.5 242.95,-18 232.95,-14.5 232.95,-21.5\"/>\n",
       "</g>\n",
       "<!-- 3&#45;&gt;2 -->\n",
       "<g id=\"edge3\" class=\"edge\">\n",
       "<title>3-&gt;2</title>\n",
       "<path fill=\"none\" stroke=\"black\" d=\"M91.15,-18C106.51,-18 126.13,-18 142.93,-18\"/>\n",
       "<polygon fill=\"black\" stroke=\"black\" points=\"142.97,-21.5 152.97,-18 142.97,-14.5 142.97,-21.5\"/>\n",
       "<text text-anchor=\"middle\" x=\"122\" y=\"-21.8\" font-family=\"Times,serif\" font-size=\"14.00\">[a-c]</text>\n",
       "</g>\n",
       "</g>\n",
       "</svg></div>"
      ],
      "text/plain": [
       "<IPython.core.display.HTML object>"
      ]
     },
     "metadata": {},
     "output_type": "display_data"
    }
   ],
   "source": [
    "n = noodler.Noodler(system)\n",
    "print(system.eq)\n",
    "n.one_solution()\n",
    "print(f\"Other {len(n.Q)} unprocessed noodles are in the queue\")\n",
    "n.solutions[0].show_constraints()"
   ]
  },
  {
   "cell_type": "markdown",
   "id": "cutting-challenge",
   "metadata": {},
   "source": [
    "The following runs the same algorithm, but flips sides of the equations first. My laptop get's out of memory on it."
   ]
  },
  {
   "cell_type": "code",
   "execution_count": null,
   "id": "integrated-sodium",
   "metadata": {},
   "outputs": [
    {
     "name": "stdout",
     "output_type": "stream",
     "text": [
      "xyxy = xyz\n"
     ]
    }
   ],
   "source": [
    "switched = system.switched()\n",
    "n = noodler.Noodler(switched)\n",
    "print(switched.eq)\n",
    "n.one_solution()\n",
    "print(f\"Other {len(n.Q)} unprocessed noodles are in the queue\")\n",
    "n.solutions[0].show_constraints()"
   ]
  }
 ],
 "metadata": {
  "kernelspec": {
   "display_name": "Python 3",
   "language": "python",
   "name": "python3"
  },
  "language_info": {
   "codemirror_mode": {
    "name": "ipython",
    "version": 3
   },
   "file_extension": ".py",
   "mimetype": "text/x-python",
   "name": "python",
   "nbconvert_exporter": "python",
   "pygments_lexer": "ipython3",
   "version": "3.8.6"
  }
 },
 "nbformat": 4,
 "nbformat_minor": 5
}
